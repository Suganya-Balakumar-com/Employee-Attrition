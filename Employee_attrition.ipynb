{
 "cells": [
  {
   "cell_type": "markdown",
   "id": "629695d7-e4d3-4891-8fb8-327c2290fbc0",
   "metadata": {},
   "source": [
    "# **ANALYSING THE EMPLOYEE ATTRITION GIVEN THE DATASET FROM KAGGLE**"
   ]
  },
  {
   "cell_type": "markdown",
   "id": "aa13ca61-93ca-4c61-8583-88d12ab36936",
   "metadata": {},
   "source": [
    " "
   ]
  },
  {
   "cell_type": "markdown",
   "id": "217ef6ff-52cb-4e15-b886-faf3aef86ae6",
   "metadata": {},
   "source": [
    "## IMPORTING PYTHON PACKAGES"
   ]
  },
  {
   "cell_type": "code",
   "execution_count": 1,
   "id": "9073508c-3c66-4476-9097-4822b4ee3e83",
   "metadata": {},
   "outputs": [],
   "source": [
    "import pandas as pd\n",
    "import numpy as np\n",
    "import matplotlib.pyplot as plt\n",
    "import seaborn as sns\n",
    "from sklearn.model_selection import train_test_split\n",
    "from sklearn.linear_model import LogisticRegression\n",
    "from sklearn.metrics import classification_report, confusion_matrix, accuracy_score\n",
    "from sklearn.preprocessing import LabelEncoder"
   ]
  },
  {
   "cell_type": "markdown",
   "id": "c69cccd9-9d62-4f1c-8dcc-e7d95c2259e8",
   "metadata": {},
   "source": [
    " "
   ]
  },
  {
   "cell_type": "markdown",
   "id": "248c16b2-de29-457c-98c5-2a4eabaa5bf3",
   "metadata": {},
   "source": [
    "## IMPORTING DATA TABLE"
   ]
  },
  {
   "cell_type": "code",
   "execution_count": 2,
   "id": "2c473da1-c378-42e4-94ab-e0cc19bb2ab1",
   "metadata": {},
   "outputs": [],
   "source": [
    "data = pd.read_csv(\"hr_attrition_data.csv\")"
   ]
  },
  {
   "cell_type": "code",
   "execution_count": 3,
   "id": "d9420f05-e310-46b4-be3e-2d15e1cd82a8",
   "metadata": {},
   "outputs": [
    {
     "data": {
      "text/html": [
       "<div>\n",
       "<style scoped>\n",
       "    .dataframe tbody tr th:only-of-type {\n",
       "        vertical-align: middle;\n",
       "    }\n",
       "\n",
       "    .dataframe tbody tr th {\n",
       "        vertical-align: top;\n",
       "    }\n",
       "\n",
       "    .dataframe thead th {\n",
       "        text-align: right;\n",
       "    }\n",
       "</style>\n",
       "<table border=\"1\" class=\"dataframe\">\n",
       "  <thead>\n",
       "    <tr style=\"text-align: right;\">\n",
       "      <th></th>\n",
       "      <th>Age</th>\n",
       "      <th>Attrition</th>\n",
       "      <th>BusinessTravel</th>\n",
       "      <th>DailyRate</th>\n",
       "      <th>Department</th>\n",
       "      <th>DistanceFromHome</th>\n",
       "      <th>Education</th>\n",
       "      <th>EducationField</th>\n",
       "      <th>EmployeeCount</th>\n",
       "      <th>EmployeeNumber</th>\n",
       "      <th>...</th>\n",
       "      <th>RelationshipSatisfaction</th>\n",
       "      <th>StandardHours</th>\n",
       "      <th>StockOptionLevel</th>\n",
       "      <th>TotalWorkingYears</th>\n",
       "      <th>TrainingTimesLastYear</th>\n",
       "      <th>WorkLifeBalance</th>\n",
       "      <th>YearsAtCompany</th>\n",
       "      <th>YearsInCurrentRole</th>\n",
       "      <th>YearsSinceLastPromotion</th>\n",
       "      <th>YearsWithCurrManager</th>\n",
       "    </tr>\n",
       "  </thead>\n",
       "  <tbody>\n",
       "    <tr>\n",
       "      <th>0</th>\n",
       "      <td>41</td>\n",
       "      <td>Yes</td>\n",
       "      <td>Travel_Rarely</td>\n",
       "      <td>1102</td>\n",
       "      <td>Sales</td>\n",
       "      <td>1</td>\n",
       "      <td>2</td>\n",
       "      <td>Life Sciences</td>\n",
       "      <td>1</td>\n",
       "      <td>1</td>\n",
       "      <td>...</td>\n",
       "      <td>1</td>\n",
       "      <td>80</td>\n",
       "      <td>0</td>\n",
       "      <td>8</td>\n",
       "      <td>0</td>\n",
       "      <td>1</td>\n",
       "      <td>6</td>\n",
       "      <td>4</td>\n",
       "      <td>0</td>\n",
       "      <td>5</td>\n",
       "    </tr>\n",
       "    <tr>\n",
       "      <th>1</th>\n",
       "      <td>49</td>\n",
       "      <td>No</td>\n",
       "      <td>Travel_Frequently</td>\n",
       "      <td>279</td>\n",
       "      <td>Research &amp; Development</td>\n",
       "      <td>8</td>\n",
       "      <td>1</td>\n",
       "      <td>Life Sciences</td>\n",
       "      <td>1</td>\n",
       "      <td>2</td>\n",
       "      <td>...</td>\n",
       "      <td>4</td>\n",
       "      <td>80</td>\n",
       "      <td>1</td>\n",
       "      <td>10</td>\n",
       "      <td>3</td>\n",
       "      <td>3</td>\n",
       "      <td>10</td>\n",
       "      <td>7</td>\n",
       "      <td>1</td>\n",
       "      <td>7</td>\n",
       "    </tr>\n",
       "    <tr>\n",
       "      <th>2</th>\n",
       "      <td>37</td>\n",
       "      <td>Yes</td>\n",
       "      <td>Travel_Rarely</td>\n",
       "      <td>1373</td>\n",
       "      <td>Research &amp; Development</td>\n",
       "      <td>2</td>\n",
       "      <td>2</td>\n",
       "      <td>Other</td>\n",
       "      <td>1</td>\n",
       "      <td>4</td>\n",
       "      <td>...</td>\n",
       "      <td>2</td>\n",
       "      <td>80</td>\n",
       "      <td>0</td>\n",
       "      <td>7</td>\n",
       "      <td>3</td>\n",
       "      <td>3</td>\n",
       "      <td>0</td>\n",
       "      <td>0</td>\n",
       "      <td>0</td>\n",
       "      <td>0</td>\n",
       "    </tr>\n",
       "    <tr>\n",
       "      <th>3</th>\n",
       "      <td>33</td>\n",
       "      <td>No</td>\n",
       "      <td>Travel_Frequently</td>\n",
       "      <td>1392</td>\n",
       "      <td>Research &amp; Development</td>\n",
       "      <td>3</td>\n",
       "      <td>4</td>\n",
       "      <td>Life Sciences</td>\n",
       "      <td>1</td>\n",
       "      <td>5</td>\n",
       "      <td>...</td>\n",
       "      <td>3</td>\n",
       "      <td>80</td>\n",
       "      <td>0</td>\n",
       "      <td>8</td>\n",
       "      <td>3</td>\n",
       "      <td>3</td>\n",
       "      <td>8</td>\n",
       "      <td>7</td>\n",
       "      <td>3</td>\n",
       "      <td>0</td>\n",
       "    </tr>\n",
       "    <tr>\n",
       "      <th>4</th>\n",
       "      <td>27</td>\n",
       "      <td>No</td>\n",
       "      <td>Travel_Rarely</td>\n",
       "      <td>591</td>\n",
       "      <td>Research &amp; Development</td>\n",
       "      <td>2</td>\n",
       "      <td>1</td>\n",
       "      <td>Medical</td>\n",
       "      <td>1</td>\n",
       "      <td>7</td>\n",
       "      <td>...</td>\n",
       "      <td>4</td>\n",
       "      <td>80</td>\n",
       "      <td>1</td>\n",
       "      <td>6</td>\n",
       "      <td>3</td>\n",
       "      <td>3</td>\n",
       "      <td>2</td>\n",
       "      <td>2</td>\n",
       "      <td>2</td>\n",
       "      <td>2</td>\n",
       "    </tr>\n",
       "  </tbody>\n",
       "</table>\n",
       "<p>5 rows × 35 columns</p>\n",
       "</div>"
      ],
      "text/plain": [
       "   Age Attrition     BusinessTravel  DailyRate              Department  \\\n",
       "0   41       Yes      Travel_Rarely       1102                   Sales   \n",
       "1   49        No  Travel_Frequently        279  Research & Development   \n",
       "2   37       Yes      Travel_Rarely       1373  Research & Development   \n",
       "3   33        No  Travel_Frequently       1392  Research & Development   \n",
       "4   27        No      Travel_Rarely        591  Research & Development   \n",
       "\n",
       "   DistanceFromHome  Education EducationField  EmployeeCount  EmployeeNumber  \\\n",
       "0                 1          2  Life Sciences              1               1   \n",
       "1                 8          1  Life Sciences              1               2   \n",
       "2                 2          2          Other              1               4   \n",
       "3                 3          4  Life Sciences              1               5   \n",
       "4                 2          1        Medical              1               7   \n",
       "\n",
       "   ...  RelationshipSatisfaction StandardHours  StockOptionLevel  \\\n",
       "0  ...                         1            80                 0   \n",
       "1  ...                         4            80                 1   \n",
       "2  ...                         2            80                 0   \n",
       "3  ...                         3            80                 0   \n",
       "4  ...                         4            80                 1   \n",
       "\n",
       "   TotalWorkingYears  TrainingTimesLastYear WorkLifeBalance  YearsAtCompany  \\\n",
       "0                  8                      0               1               6   \n",
       "1                 10                      3               3              10   \n",
       "2                  7                      3               3               0   \n",
       "3                  8                      3               3               8   \n",
       "4                  6                      3               3               2   \n",
       "\n",
       "  YearsInCurrentRole  YearsSinceLastPromotion  YearsWithCurrManager  \n",
       "0                  4                        0                     5  \n",
       "1                  7                        1                     7  \n",
       "2                  0                        0                     0  \n",
       "3                  7                        3                     0  \n",
       "4                  2                        2                     2  \n",
       "\n",
       "[5 rows x 35 columns]"
      ]
     },
     "execution_count": 3,
     "metadata": {},
     "output_type": "execute_result"
    }
   ],
   "source": [
    "data.head()"
   ]
  },
  {
   "cell_type": "code",
   "execution_count": 4,
   "id": "5df808df-effa-4e5b-817a-ee63222c378c",
   "metadata": {},
   "outputs": [],
   "source": [
    "pd.set_option('display.max_columns', None)"
   ]
  },
  {
   "cell_type": "code",
   "execution_count": 5,
   "id": "385fc224-6644-4882-b8d6-a043e41a8f6e",
   "metadata": {},
   "outputs": [
    {
     "data": {
      "text/html": [
       "<div>\n",
       "<style scoped>\n",
       "    .dataframe tbody tr th:only-of-type {\n",
       "        vertical-align: middle;\n",
       "    }\n",
       "\n",
       "    .dataframe tbody tr th {\n",
       "        vertical-align: top;\n",
       "    }\n",
       "\n",
       "    .dataframe thead th {\n",
       "        text-align: right;\n",
       "    }\n",
       "</style>\n",
       "<table border=\"1\" class=\"dataframe\">\n",
       "  <thead>\n",
       "    <tr style=\"text-align: right;\">\n",
       "      <th></th>\n",
       "      <th>Age</th>\n",
       "      <th>Attrition</th>\n",
       "      <th>BusinessTravel</th>\n",
       "      <th>DailyRate</th>\n",
       "      <th>Department</th>\n",
       "      <th>DistanceFromHome</th>\n",
       "      <th>Education</th>\n",
       "      <th>EducationField</th>\n",
       "      <th>EmployeeCount</th>\n",
       "      <th>EmployeeNumber</th>\n",
       "      <th>EnvironmentSatisfaction</th>\n",
       "      <th>Gender</th>\n",
       "      <th>HourlyRate</th>\n",
       "      <th>JobInvolvement</th>\n",
       "      <th>JobLevel</th>\n",
       "      <th>JobRole</th>\n",
       "      <th>JobSatisfaction</th>\n",
       "      <th>MaritalStatus</th>\n",
       "      <th>MonthlyIncome</th>\n",
       "      <th>MonthlyRate</th>\n",
       "      <th>NumCompaniesWorked</th>\n",
       "      <th>Over18</th>\n",
       "      <th>OverTime</th>\n",
       "      <th>PercentSalaryHike</th>\n",
       "      <th>PerformanceRating</th>\n",
       "      <th>RelationshipSatisfaction</th>\n",
       "      <th>StandardHours</th>\n",
       "      <th>StockOptionLevel</th>\n",
       "      <th>TotalWorkingYears</th>\n",
       "      <th>TrainingTimesLastYear</th>\n",
       "      <th>WorkLifeBalance</th>\n",
       "      <th>YearsAtCompany</th>\n",
       "      <th>YearsInCurrentRole</th>\n",
       "      <th>YearsSinceLastPromotion</th>\n",
       "      <th>YearsWithCurrManager</th>\n",
       "    </tr>\n",
       "  </thead>\n",
       "  <tbody>\n",
       "    <tr>\n",
       "      <th>0</th>\n",
       "      <td>41</td>\n",
       "      <td>Yes</td>\n",
       "      <td>Travel_Rarely</td>\n",
       "      <td>1102</td>\n",
       "      <td>Sales</td>\n",
       "      <td>1</td>\n",
       "      <td>2</td>\n",
       "      <td>Life Sciences</td>\n",
       "      <td>1</td>\n",
       "      <td>1</td>\n",
       "      <td>2</td>\n",
       "      <td>Female</td>\n",
       "      <td>94</td>\n",
       "      <td>3</td>\n",
       "      <td>2</td>\n",
       "      <td>Sales Executive</td>\n",
       "      <td>4</td>\n",
       "      <td>Single</td>\n",
       "      <td>5993</td>\n",
       "      <td>19479</td>\n",
       "      <td>8</td>\n",
       "      <td>Y</td>\n",
       "      <td>Yes</td>\n",
       "      <td>11</td>\n",
       "      <td>3</td>\n",
       "      <td>1</td>\n",
       "      <td>80</td>\n",
       "      <td>0</td>\n",
       "      <td>8</td>\n",
       "      <td>0</td>\n",
       "      <td>1</td>\n",
       "      <td>6</td>\n",
       "      <td>4</td>\n",
       "      <td>0</td>\n",
       "      <td>5</td>\n",
       "    </tr>\n",
       "    <tr>\n",
       "      <th>1</th>\n",
       "      <td>49</td>\n",
       "      <td>No</td>\n",
       "      <td>Travel_Frequently</td>\n",
       "      <td>279</td>\n",
       "      <td>Research &amp; Development</td>\n",
       "      <td>8</td>\n",
       "      <td>1</td>\n",
       "      <td>Life Sciences</td>\n",
       "      <td>1</td>\n",
       "      <td>2</td>\n",
       "      <td>3</td>\n",
       "      <td>Male</td>\n",
       "      <td>61</td>\n",
       "      <td>2</td>\n",
       "      <td>2</td>\n",
       "      <td>Research Scientist</td>\n",
       "      <td>2</td>\n",
       "      <td>Married</td>\n",
       "      <td>5130</td>\n",
       "      <td>24907</td>\n",
       "      <td>1</td>\n",
       "      <td>Y</td>\n",
       "      <td>No</td>\n",
       "      <td>23</td>\n",
       "      <td>4</td>\n",
       "      <td>4</td>\n",
       "      <td>80</td>\n",
       "      <td>1</td>\n",
       "      <td>10</td>\n",
       "      <td>3</td>\n",
       "      <td>3</td>\n",
       "      <td>10</td>\n",
       "      <td>7</td>\n",
       "      <td>1</td>\n",
       "      <td>7</td>\n",
       "    </tr>\n",
       "    <tr>\n",
       "      <th>2</th>\n",
       "      <td>37</td>\n",
       "      <td>Yes</td>\n",
       "      <td>Travel_Rarely</td>\n",
       "      <td>1373</td>\n",
       "      <td>Research &amp; Development</td>\n",
       "      <td>2</td>\n",
       "      <td>2</td>\n",
       "      <td>Other</td>\n",
       "      <td>1</td>\n",
       "      <td>4</td>\n",
       "      <td>4</td>\n",
       "      <td>Male</td>\n",
       "      <td>92</td>\n",
       "      <td>2</td>\n",
       "      <td>1</td>\n",
       "      <td>Laboratory Technician</td>\n",
       "      <td>3</td>\n",
       "      <td>Single</td>\n",
       "      <td>2090</td>\n",
       "      <td>2396</td>\n",
       "      <td>6</td>\n",
       "      <td>Y</td>\n",
       "      <td>Yes</td>\n",
       "      <td>15</td>\n",
       "      <td>3</td>\n",
       "      <td>2</td>\n",
       "      <td>80</td>\n",
       "      <td>0</td>\n",
       "      <td>7</td>\n",
       "      <td>3</td>\n",
       "      <td>3</td>\n",
       "      <td>0</td>\n",
       "      <td>0</td>\n",
       "      <td>0</td>\n",
       "      <td>0</td>\n",
       "    </tr>\n",
       "    <tr>\n",
       "      <th>3</th>\n",
       "      <td>33</td>\n",
       "      <td>No</td>\n",
       "      <td>Travel_Frequently</td>\n",
       "      <td>1392</td>\n",
       "      <td>Research &amp; Development</td>\n",
       "      <td>3</td>\n",
       "      <td>4</td>\n",
       "      <td>Life Sciences</td>\n",
       "      <td>1</td>\n",
       "      <td>5</td>\n",
       "      <td>4</td>\n",
       "      <td>Female</td>\n",
       "      <td>56</td>\n",
       "      <td>3</td>\n",
       "      <td>1</td>\n",
       "      <td>Research Scientist</td>\n",
       "      <td>3</td>\n",
       "      <td>Married</td>\n",
       "      <td>2909</td>\n",
       "      <td>23159</td>\n",
       "      <td>1</td>\n",
       "      <td>Y</td>\n",
       "      <td>Yes</td>\n",
       "      <td>11</td>\n",
       "      <td>3</td>\n",
       "      <td>3</td>\n",
       "      <td>80</td>\n",
       "      <td>0</td>\n",
       "      <td>8</td>\n",
       "      <td>3</td>\n",
       "      <td>3</td>\n",
       "      <td>8</td>\n",
       "      <td>7</td>\n",
       "      <td>3</td>\n",
       "      <td>0</td>\n",
       "    </tr>\n",
       "    <tr>\n",
       "      <th>4</th>\n",
       "      <td>27</td>\n",
       "      <td>No</td>\n",
       "      <td>Travel_Rarely</td>\n",
       "      <td>591</td>\n",
       "      <td>Research &amp; Development</td>\n",
       "      <td>2</td>\n",
       "      <td>1</td>\n",
       "      <td>Medical</td>\n",
       "      <td>1</td>\n",
       "      <td>7</td>\n",
       "      <td>1</td>\n",
       "      <td>Male</td>\n",
       "      <td>40</td>\n",
       "      <td>3</td>\n",
       "      <td>1</td>\n",
       "      <td>Laboratory Technician</td>\n",
       "      <td>2</td>\n",
       "      <td>Married</td>\n",
       "      <td>3468</td>\n",
       "      <td>16632</td>\n",
       "      <td>9</td>\n",
       "      <td>Y</td>\n",
       "      <td>No</td>\n",
       "      <td>12</td>\n",
       "      <td>3</td>\n",
       "      <td>4</td>\n",
       "      <td>80</td>\n",
       "      <td>1</td>\n",
       "      <td>6</td>\n",
       "      <td>3</td>\n",
       "      <td>3</td>\n",
       "      <td>2</td>\n",
       "      <td>2</td>\n",
       "      <td>2</td>\n",
       "      <td>2</td>\n",
       "    </tr>\n",
       "  </tbody>\n",
       "</table>\n",
       "</div>"
      ],
      "text/plain": [
       "   Age Attrition     BusinessTravel  DailyRate              Department  \\\n",
       "0   41       Yes      Travel_Rarely       1102                   Sales   \n",
       "1   49        No  Travel_Frequently        279  Research & Development   \n",
       "2   37       Yes      Travel_Rarely       1373  Research & Development   \n",
       "3   33        No  Travel_Frequently       1392  Research & Development   \n",
       "4   27        No      Travel_Rarely        591  Research & Development   \n",
       "\n",
       "   DistanceFromHome  Education EducationField  EmployeeCount  EmployeeNumber  \\\n",
       "0                 1          2  Life Sciences              1               1   \n",
       "1                 8          1  Life Sciences              1               2   \n",
       "2                 2          2          Other              1               4   \n",
       "3                 3          4  Life Sciences              1               5   \n",
       "4                 2          1        Medical              1               7   \n",
       "\n",
       "   EnvironmentSatisfaction  Gender  HourlyRate  JobInvolvement  JobLevel  \\\n",
       "0                        2  Female          94               3         2   \n",
       "1                        3    Male          61               2         2   \n",
       "2                        4    Male          92               2         1   \n",
       "3                        4  Female          56               3         1   \n",
       "4                        1    Male          40               3         1   \n",
       "\n",
       "                 JobRole  JobSatisfaction MaritalStatus  MonthlyIncome  \\\n",
       "0        Sales Executive                4        Single           5993   \n",
       "1     Research Scientist                2       Married           5130   \n",
       "2  Laboratory Technician                3        Single           2090   \n",
       "3     Research Scientist                3       Married           2909   \n",
       "4  Laboratory Technician                2       Married           3468   \n",
       "\n",
       "   MonthlyRate  NumCompaniesWorked Over18 OverTime  PercentSalaryHike  \\\n",
       "0        19479                   8      Y      Yes                 11   \n",
       "1        24907                   1      Y       No                 23   \n",
       "2         2396                   6      Y      Yes                 15   \n",
       "3        23159                   1      Y      Yes                 11   \n",
       "4        16632                   9      Y       No                 12   \n",
       "\n",
       "   PerformanceRating  RelationshipSatisfaction  StandardHours  \\\n",
       "0                  3                         1             80   \n",
       "1                  4                         4             80   \n",
       "2                  3                         2             80   \n",
       "3                  3                         3             80   \n",
       "4                  3                         4             80   \n",
       "\n",
       "   StockOptionLevel  TotalWorkingYears  TrainingTimesLastYear  \\\n",
       "0                 0                  8                      0   \n",
       "1                 1                 10                      3   \n",
       "2                 0                  7                      3   \n",
       "3                 0                  8                      3   \n",
       "4                 1                  6                      3   \n",
       "\n",
       "   WorkLifeBalance  YearsAtCompany  YearsInCurrentRole  \\\n",
       "0                1               6                   4   \n",
       "1                3              10                   7   \n",
       "2                3               0                   0   \n",
       "3                3               8                   7   \n",
       "4                3               2                   2   \n",
       "\n",
       "   YearsSinceLastPromotion  YearsWithCurrManager  \n",
       "0                        0                     5  \n",
       "1                        1                     7  \n",
       "2                        0                     0  \n",
       "3                        3                     0  \n",
       "4                        2                     2  "
      ]
     },
     "execution_count": 5,
     "metadata": {},
     "output_type": "execute_result"
    }
   ],
   "source": [
    "data.head()"
   ]
  },
  {
   "cell_type": "code",
   "execution_count": 6,
   "id": "00cbdf43-f781-4acf-bb8b-549e8dde832b",
   "metadata": {},
   "outputs": [
    {
     "data": {
      "text/plain": [
       "(1470, 35)"
      ]
     },
     "execution_count": 6,
     "metadata": {},
     "output_type": "execute_result"
    }
   ],
   "source": [
    "data.shape"
   ]
  },
  {
   "cell_type": "markdown",
   "id": "0719328b-87a0-42c0-82c5-a5f60f72148c",
   "metadata": {},
   "source": [
    " "
   ]
  },
  {
   "cell_type": "markdown",
   "id": "77d3da4c-2ce7-48d7-8617-d8e9ee4ea950",
   "metadata": {},
   "source": [
    "### Explanation of Columns"
   ]
  },
  {
   "cell_type": "markdown",
   "id": "710b689d-a992-4a0b-a96f-274168f7140a",
   "metadata": {},
   "source": [
    "**1. Age:** Age of employee <br>\n",
    "**2. Attrition:** Indicates if the employee has left the company <br>\n",
    "**3. Business Travel:** Frequency of business travel <br>\n",
    "**4. Daily Rate:** The daily pay rate of the employee <br>\n",
    "**5. Department:** The department the employee works in <br>\n",
    "**6. Distance From Home:** The distance (in miles) the employee lives from work <br>\n",
    "**7. Education:** Employee's level of education <br>\n",
    "**8. Education Field:** The field of study of the employee <br>\n",
    "**9. Employee Count:** Count of employees in the same position or department <br>\n",
    "**10. Employee Number:** Unique identifier for each employee <br>\n",
    "**11. Environment Satisfaction:** Satisfaction level with the work environment (on a scale, typically 1-4) <br>\n",
    "**12. Gender:** Gender of the employee <br>\n",
    "**13. Hourly Rate:** The pay rate of the employee on an hourly basis <br>\n",
    "**14. Job Involvement:** Employee’s involvement in their job <br>\n",
    "**15. Job Level:** Level of the employee’s position within the organization <br>\n",
    "**16. Job Role:** The specific job title or role of the employee <br>\n",
    "**17. Job Satisfaction:** Employee's satisfaction with their job <br>\n",
    "**18. Marital Status:** Marital status of the employee <br>\n",
    "**19. Monthly Income:** The employee's monthly income <br>\n",
    "**20. Monthly Rate:** The monthly pay rate for the employee <br>\n",
    "**21. Num Companies Worked:** The number of different companies the employee has worked for <br>\n",
    "**22. Over 18:** Indicates if the employee is over 18 years old <br>\n",
    "**23. Over Time:** Indicates if the employee works overtime <br>\n",
    "**24. Percent Salary Hike:** The percentage increase in salary <br>\n",
    "**25. Performance Rating:** Employee’s performance rating <br>\n",
    "**26. Relationship Satisfaction:** Satisfaction level with workplace relationships <br>\n",
    "**27. Standard Hours:** Standard working hours for the employee <br>\n",
    "**28. Stock Option Level:** Level of stock options available to the employee <br>\n",
    "**29. Total Working Years:** Total years of working experience of the employee <br>\n",
    "**30. Training Times Last Year:** Number of training sessions attended during the last year <br>\n",
    "**31. Work-Life Balance:** Employee's perception of their work-life balance <br>\n",
    "**32. Years At Company:** Number of years the employee has been with the company <br>\n",
    "**33. Years In Current Role:** Number of years the employee has been in their current position <br>\n",
    "**34. Years Since Last Promotion:** Number of years since the employee's last promotion <br>\n",
    "**35. Years With Current Manager:** Number of years the employee has been with their current manager <br>\n",
    "\n"
   ]
  },
  {
   "cell_type": "markdown",
   "id": "f6f75857-df7d-4f53-a513-cb328892f8b5",
   "metadata": {},
   "source": [
    " "
   ]
  },
  {
   "cell_type": "markdown",
   "id": "14335756-3ac9-4efe-b0b0-af60f5a66053",
   "metadata": {},
   "source": [
    "## CHECKING FOR MISSING VALUES "
   ]
  },
  {
   "cell_type": "code",
   "execution_count": 7,
   "id": "1686f676-4400-4ab8-b142-34589991dfdf",
   "metadata": {},
   "outputs": [
    {
     "data": {
      "text/plain": [
       "Age                         0\n",
       "Attrition                   0\n",
       "BusinessTravel              0\n",
       "DailyRate                   0\n",
       "Department                  0\n",
       "DistanceFromHome            0\n",
       "Education                   0\n",
       "EducationField              0\n",
       "EmployeeCount               0\n",
       "EmployeeNumber              0\n",
       "EnvironmentSatisfaction     0\n",
       "Gender                      0\n",
       "HourlyRate                  0\n",
       "JobInvolvement              0\n",
       "JobLevel                    0\n",
       "JobRole                     0\n",
       "JobSatisfaction             0\n",
       "MaritalStatus               0\n",
       "MonthlyIncome               0\n",
       "MonthlyRate                 0\n",
       "NumCompaniesWorked          0\n",
       "Over18                      0\n",
       "OverTime                    0\n",
       "PercentSalaryHike           0\n",
       "PerformanceRating           0\n",
       "RelationshipSatisfaction    0\n",
       "StandardHours               0\n",
       "StockOptionLevel            0\n",
       "TotalWorkingYears           0\n",
       "TrainingTimesLastYear       0\n",
       "WorkLifeBalance             0\n",
       "YearsAtCompany              0\n",
       "YearsInCurrentRole          0\n",
       "YearsSinceLastPromotion     0\n",
       "YearsWithCurrManager        0\n",
       "dtype: int64"
      ]
     },
     "execution_count": 7,
     "metadata": {},
     "output_type": "execute_result"
    }
   ],
   "source": [
    "data.isnull().sum()"
   ]
  },
  {
   "cell_type": "markdown",
   "id": "c821a367-f1ca-4197-8c39-8637e615eaa7",
   "metadata": {},
   "source": [
    "***NOTE: Shows that there are no missing values in the dataset***"
   ]
  },
  {
   "cell_type": "markdown",
   "id": "a1f2a180-5199-4b4b-8371-0dcc50dac8a7",
   "metadata": {},
   "source": [
    " "
   ]
  },
  {
   "cell_type": "markdown",
   "id": "76f2b9b6-f5ca-48ca-9fca-cd05cfc7a942",
   "metadata": {},
   "source": [
    "## TABLE INFORMATION - Exploring the data types"
   ]
  },
  {
   "cell_type": "code",
   "execution_count": 8,
   "id": "3c21bdc8-6726-4ead-8d86-60c723b94ba6",
   "metadata": {},
   "outputs": [
    {
     "name": "stdout",
     "output_type": "stream",
     "text": [
      "<class 'pandas.core.frame.DataFrame'>\n",
      "RangeIndex: 1470 entries, 0 to 1469\n",
      "Data columns (total 35 columns):\n",
      " #   Column                    Non-Null Count  Dtype \n",
      "---  ------                    --------------  ----- \n",
      " 0   Age                       1470 non-null   int64 \n",
      " 1   Attrition                 1470 non-null   object\n",
      " 2   BusinessTravel            1470 non-null   object\n",
      " 3   DailyRate                 1470 non-null   int64 \n",
      " 4   Department                1470 non-null   object\n",
      " 5   DistanceFromHome          1470 non-null   int64 \n",
      " 6   Education                 1470 non-null   int64 \n",
      " 7   EducationField            1470 non-null   object\n",
      " 8   EmployeeCount             1470 non-null   int64 \n",
      " 9   EmployeeNumber            1470 non-null   int64 \n",
      " 10  EnvironmentSatisfaction   1470 non-null   int64 \n",
      " 11  Gender                    1470 non-null   object\n",
      " 12  HourlyRate                1470 non-null   int64 \n",
      " 13  JobInvolvement            1470 non-null   int64 \n",
      " 14  JobLevel                  1470 non-null   int64 \n",
      " 15  JobRole                   1470 non-null   object\n",
      " 16  JobSatisfaction           1470 non-null   int64 \n",
      " 17  MaritalStatus             1470 non-null   object\n",
      " 18  MonthlyIncome             1470 non-null   int64 \n",
      " 19  MonthlyRate               1470 non-null   int64 \n",
      " 20  NumCompaniesWorked        1470 non-null   int64 \n",
      " 21  Over18                    1470 non-null   object\n",
      " 22  OverTime                  1470 non-null   object\n",
      " 23  PercentSalaryHike         1470 non-null   int64 \n",
      " 24  PerformanceRating         1470 non-null   int64 \n",
      " 25  RelationshipSatisfaction  1470 non-null   int64 \n",
      " 26  StandardHours             1470 non-null   int64 \n",
      " 27  StockOptionLevel          1470 non-null   int64 \n",
      " 28  TotalWorkingYears         1470 non-null   int64 \n",
      " 29  TrainingTimesLastYear     1470 non-null   int64 \n",
      " 30  WorkLifeBalance           1470 non-null   int64 \n",
      " 31  YearsAtCompany            1470 non-null   int64 \n",
      " 32  YearsInCurrentRole        1470 non-null   int64 \n",
      " 33  YearsSinceLastPromotion   1470 non-null   int64 \n",
      " 34  YearsWithCurrManager      1470 non-null   int64 \n",
      "dtypes: int64(26), object(9)\n",
      "memory usage: 402.1+ KB\n",
      "None\n"
     ]
    }
   ],
   "source": [
    "print(data.info())"
   ]
  },
  {
   "cell_type": "markdown",
   "id": "fb2a45a1-1cf6-40bf-9bea-5d0319b8e25b",
   "metadata": {},
   "source": [
    " "
   ]
  },
  {
   "cell_type": "markdown",
   "id": "1bbc78c7-1f65-41fd-a151-4bab19de8098",
   "metadata": {},
   "source": [
    "## EMPLOYEE ATTRTITION ANALYSIS"
   ]
  },
  {
   "cell_type": "markdown",
   "id": "df8583b8-c8e6-4a17-a7a5-e3b5dc7740fe",
   "metadata": {},
   "source": [
    "PROBLEM STATEMENT: <br>\n",
    "What are the factors that are most associated with emplyee attrition (that is, what factors decides whether the employee leave the company)?"
   ]
  },
  {
   "cell_type": "code",
   "execution_count": 9,
   "id": "04f848f2-b407-4125-8365-b9f4ba85cf06",
   "metadata": {},
   "outputs": [
    {
     "data": {
      "image/png": "[encoded data removed]",
      "text/plain": [
       "<Figure size 640x480 with 1 Axes>"
      ]
     },
     "metadata": {},
     "output_type": "display_data"
    }
   ],
   "source": [
    "attrition = data[\"Attrition\"].value_counts()\n",
    "attrition.name = \"Attrition\"\n",
    "\n",
    "\n",
    "# Explicit color order matching the labels ('No', 'Yes')\n",
    "colors = [\"orange\", \"red\"] \n",
    "palette = {\"No\": \"orange\", \"Yes\": \"red\"}  # assign colors by label\n",
    "\n",
    "# Pie chart\n",
    "plt.pie(attrition, labels=attrition.index, autopct = '%1.1f%%', colors=colors)\n",
    "\n",
    "# Equal aspect ratio ensures that pe is drawn as a circle\n",
    "plt.axis('equal')\n",
    "\n",
    "# Title\n",
    "plt.title(f\"Distribution of {attrition}\")\n",
    "\n",
    "# Show\n",
    "plt.show()"
   ]
  },
  {
   "cell_type": "markdown",
   "id": "d8f9e6d9-c380-4aab-a6e8-5229a46dc1f6",
   "metadata": {},
   "source": [
    "### **COUNT BASED ON ATTRITION**\n",
    "**Attritioned employees:** 237, which is 16.1% of the total employees <br>\n",
    "**Active employees:** 1233, which is 83.9% of the total employees "
   ]
  },
  {
   "cell_type": "markdown",
   "id": "48c315d5-de57-4e83-8ce3-f847e7e1454f",
   "metadata": {},
   "source": [
    " "
   ]
  },
  {
   "cell_type": "markdown",
   "id": "727eef47-1561-4237-9e3c-107a0a8c2aef",
   "metadata": {},
   "source": [
    "### **VARIABLE SELECTION**"
   ]
  },
  {
   "cell_type": "markdown",
   "id": "3feb6049-e67e-46db-9568-c7b37842c2b4",
   "metadata": {},
   "source": [
    "Variables for a regression model are selected based on a combination of domain knowledge and statistical analysis methods.\n",
    "For the given problem statement, we will primarily use \"Subject Matter Knowledge\", and \"Correlation anaysis\"\n",
    "\n",
    "The main approaches for variable selection include:\n",
    "\n",
    "### 1. Subject Matter Knowledge\n",
    "- Variables known to affect the outcome, based on previous research or theory, are included.\n",
    "\n",
    "### 2. Univariate Analysis\n",
    "- Each variable's individual relationship with the outcome is tested (using p-values, correlation, etc.). Variables showing significant association may be considered for inclusion.\n",
    "\n",
    "### 3. Formal Statistical Selection Methods\n",
    "- **Forward Selection:** Start with no variables and add them one at a time based on significance.\n",
    "- **Backward Elimination:** Start with all candidate variables and remove the least significant one by one.\n",
    "- **Stepwise Selection:** Combine forward selection and backward elimination.\n",
    "- **All Subsets Regression:** Evaluate all combinations but is computationally intensive for many variables.\n",
    "\n",
    "### 4. Information Criteria\n",
    "- Techniques like Akaike Information Criterion (AIC) and Bayesian Information Criterion (BIC) evaluate models by balancing fit and complexity—lower is better.\n",
    "\n",
    "### 5. Multicollinearity and Redundancy\n",
    "- Highly correlated predictors are avoided to reduce redundancy and instability in estimations.\n",
    "\n",
    "### 6. Retention of Confounders\n",
    "- Variables not significant individually but which, when removed, substantially change the estimates of other variables, are retained as confounders.\n",
    "\n",
    "### 7. Iterative Model Building\n",
    "- The process is often iterative: variables are added or removed and the model is repeatedly checked for fit, parsimony, and predictive accuracy.\n",
    "\n",
    "Proper variable selection helps build a model that is both interpretable and effective, balancing simplicity with explanatory or predictive power. "
   ]
  },
  {
   "cell_type": "markdown",
   "id": "7e6c4873-9201-4ee9-b3be-f0126c14ddea",
   "metadata": {},
   "source": [
    " "
   ]
  },
  {
   "cell_type": "markdown",
   "id": "5391d272-a840-4cbc-944f-81001ea204b2",
   "metadata": {},
   "source": [
    "### **Attrition against Other Variables**\n",
    "\n",
    "Investigating how the variables affect the employees who stayed versus those who left.\n",
    "\n",
    "Some of the key variables to focus on:\n",
    "1. Age: Are younger or older employees more likely to leave?\n",
    "2. Business Travel: Does frequent travel lead to attrition?\n",
    "3. Department: Are specific departments affected by attrition?\n",
    "4. Distance From Home: Are employees who live far from work more likely to leave?\n",
    "5. Education: Does the level of education influence attrition?\n",
    "6. Job Satisfaction: Do employees with lower job satisfaction tend to leave?\n",
    "7. Marital Status: Does marital status play a role (e.g., are single employees more likely to leave)?\n",
    "8. Monthly Income: Is there a connection between income and quitting?\n",
    "9. Job Role: Is a particular job role prone to attrition?\n",
    "10. Over Time: Do employees working overtime have a higher chance of leaving?\n",
    "11. Work-Life Balance: Are employees with poor work-life balance more likely to leave?"
   ]
  },
  {
   "cell_type": "markdown",
   "id": "6e226f1a-a8f3-428e-a7af-144e321dad20",
   "metadata": {},
   "source": [
    " "
   ]
  },
  {
   "cell_type": "markdown",
   "id": "2a31343c-f4e7-431a-b516-3f5567e4ec21",
   "metadata": {},
   "source": [
    "**1. Age: Are younger or older employees more likely to leave?** <br>\n",
    "Hypothesis: Younger employees tend to leave for better career opportunities\n",
    "\n"
   ]
  },
  {
   "cell_type": "code",
   "execution_count": 10,
   "id": "d636aa53-c693-41ad-b27c-1d2479fc3124",
   "metadata": {},
   "outputs": [
    {
     "name": "stdout",
     "output_type": "stream",
     "text": [
      "Attrition\n",
      "No     37.561233\n",
      "Yes    33.607595\n",
      "Name: Age, dtype: float64\n"
     ]
    }
   ],
   "source": [
    "age_comparison = data.groupby('Attrition')['Age'].mean()\n",
    "print(age_comparison)"
   ]
  },
  {
   "cell_type": "markdown",
   "id": "54205441-e2f5-4140-b756-222d9411af92",
   "metadata": {},
   "source": [
    "***INSIGHT*** <br>\n",
    "The average age of employees who quit the company is 33.6 years <br>\n",
    "The average age of employees who are still with the company is 37.5 years "
   ]
  },
  {
   "cell_type": "markdown",
   "id": "08e780ef-7d76-4128-8c85-67ffa615f000",
   "metadata": {},
   "source": [
    " "
   ]
  },
  {
   "cell_type": "markdown",
   "id": "eb755e41-2d2f-48aa-a400-46da3641e5ec",
   "metadata": {},
   "source": [
    "**2. Business Travel: Does frequent travel lead to attrition?** <br>\n",
    "Hypothesis: Employees who travel frequently for business might be more likely to leave due to travel fatigue or poor work-life balance."
   ]
  },
  {
   "cell_type": "code",
   "execution_count": 11,
   "id": "ebaecfc4-ccfa-4294-9e8e-2c91a88e57fc",
   "metadata": {},
   "outputs": [
    {
     "name": "stdout",
     "output_type": "stream",
     "text": [
      "BusinessTravel  Non-Travel  Travel_Frequently  Travel_Rarely\n",
      "Attrition                                                   \n",
      "No                     138                208            887\n",
      "Yes                     12                 69            156\n"
     ]
    }
   ],
   "source": [
    "travel_comparison = data.groupby(['Attrition', 'BusinessTravel']).size().unstack()\n",
    "print(travel_comparison)"
   ]
  },
  {
   "cell_type": "code",
   "execution_count": 12,
   "id": "4038ad57-bbc1-44be-9ee9-f1b38346bc34",
   "metadata": {},
   "outputs": [
    {
     "data": {
      "image/png": "[encoded data removed]",
      "text/plain": [
       "<Figure size 800x600 with 1 Axes>"
      ]
     },
     "metadata": {},
     "output_type": "display_data"
    }
   ],
   "source": [
    "plt.figure(figsize=(8,6))\n",
    "sns.countplot(x='BusinessTravel', hue='Attrition', data=data, palette=palette)\n",
    "plt.title('Business Travel vs Attrition')\n",
    "plt.xlabel('Business Travel Frequency')\n",
    "plt.ylabel('Count')\n",
    "plt.show()"
   ]
  },
  {
   "cell_type": "markdown",
   "id": "1f548e10-f498-4978-9916-6a335155f40a",
   "metadata": {},
   "source": [
    "***INSIGHT*** <br>\n",
    "Based on the graph, it is seen that there is no positive relationship between Business Travel and Attrition. \n",
    "Though it looks like, people with rare opportunity to travel, tend to quit more."
   ]
  },
  {
   "cell_type": "markdown",
   "id": "ff0673fb-410b-4a9c-98ea-1b7fc33490d5",
   "metadata": {},
   "source": [
    " "
   ]
  },
  {
   "cell_type": "markdown",
   "id": "ad6d4486-45d7-4bc8-9ef2-1855fdfd09a8",
   "metadata": {},
   "source": [
    "**3. Department: Are specific departments affected by attrition?** <br>\n",
    "Hypothesis: Are departments like R&D and Sales affected more by Attrition ?  "
   ]
  },
  {
   "cell_type": "code",
   "execution_count": 13,
   "id": "fcae085b-6b55-4227-b722-19c9aec5a333",
   "metadata": {},
   "outputs": [
    {
     "name": "stdout",
     "output_type": "stream",
     "text": [
      "Department  Human Resources  Research & Development  Sales\n",
      "Attrition                                                 \n",
      "No                       51                     828    354\n",
      "Yes                      12                     133     92\n"
     ]
    }
   ],
   "source": [
    "department = data.groupby(['Attrition', 'Department']).size().unstack()\n",
    "print(department)"
   ]
  },
  {
   "cell_type": "code",
   "execution_count": 14,
   "id": "ce02909b-4aeb-42c9-97bf-f8e922b66c33",
   "metadata": {},
   "outputs": [
    {
     "data": {
      "image/png": "[encoded data removed]",
      "text/plain": [
       "<Figure size 800x600 with 1 Axes>"
      ]
     },
     "metadata": {},
     "output_type": "display_data"
    }
   ],
   "source": [
    "plt.figure(figsize=(8,6))\n",
    "sns.countplot(x='Department', hue='Attrition', data=data, palette=palette)\n",
    "plt.title('Department vs Attrition')\n",
    "plt.xlabel('Department Frequency')\n",
    "plt.ylabel('Count')\n",
    "plt.show()"
   ]
  },
  {
   "cell_type": "markdown",
   "id": "ce4f433a-87b5-4e73-96aa-eb70460d1e25",
   "metadata": {},
   "source": [
    "***INSIGHT*** <br>\n",
    "More attrition in Departments R&D and Sales"
   ]
  },
  {
   "cell_type": "markdown",
   "id": "de335d1e-5a00-4ce8-be68-bf02a9e49950",
   "metadata": {},
   "source": [
    " "
   ]
  },
  {
   "cell_type": "markdown",
   "id": "cee6dc80-2e34-45c9-b414-8875b3f2b56a",
   "metadata": {},
   "source": [
    "**4. Distance From Home: Are employees who live far from work more likely to leave?** <br>\n",
    "Hypothesis: Employees who live far from work are most likely to quit"
   ]
  },
  {
   "cell_type": "code",
   "execution_count": 15,
   "id": "a60863a3-e0bc-4cf2-a6b8-2bf20b39eea1",
   "metadata": {},
   "outputs": [
    {
     "name": "stdout",
     "output_type": "stream",
     "text": [
      "DistanceFromHome   1    2   3   4   5   6   7   8   9   10  11  12  13  14  \\\n",
      "Attrition                                                                    \n",
      "No                182  183  70  55  55  52  73  70  67  75  25  14  13  17   \n",
      "Yes                26   28  14   9  10   7  11  10  18  11   4   6   6   4   \n",
      "\n",
      "DistanceFromHome  15  16  17  18  19  20  21  22  23  24  25  26  27  28  29  \n",
      "Attrition                                                                     \n",
      "No                21  25  15  22  19  21  15  13  22  16  19  22   9  21  22  \n",
      "Yes                5   7   5   4   3   4   3   6   5  12   6   3   3   2   5  \n"
     ]
    },
    {
     "data": {
      "image/png": "[encoded data removed]",
      "text/plain": [
       "<Figure size 800x600 with 1 Axes>"
      ]
     },
     "metadata": {},
     "output_type": "display_data"
    }
   ],
   "source": [
    "distance = data.groupby(['Attrition', 'DistanceFromHome']).size().unstack()\n",
    "print(distance)\n",
    "\n",
    "plt.figure(figsize=(8,6))\n",
    "sns.countplot(x='DistanceFromHome', hue='Attrition', data=data, palette=palette)\n",
    "plt.title('Distance From Home vs Attrition')\n",
    "plt.xlabel('Distance From Home')\n",
    "plt.ylabel('Count')\n",
    "plt.show()"
   ]
  },
  {
   "cell_type": "markdown",
   "id": "c74739f6-c617-44b4-8e8f-0fdb38a1d7c6",
   "metadata": {},
   "source": [
    "***INSIGHT*** <br>\n",
    "The observations looks otherwise. \n",
    "People who are closer to office seem to quir more. "
   ]
  },
  {
   "cell_type": "markdown",
   "id": "983b4275-0328-40cf-9de4-7b2dde39dc79",
   "metadata": {},
   "source": [
    " "
   ]
  },
  {
   "cell_type": "markdown",
   "id": "8f14a9a4-0142-4e8c-822f-adeeb4bd0edd",
   "metadata": {},
   "source": [
    "**5. Education: Does the level of education influence attrition?** <br>\n",
    "Hypothesis:  High skilled workes are more likely to leave for better opprtunites"
   ]
  },
  {
   "cell_type": "code",
   "execution_count": 16,
   "id": "9b123b63-ef22-44f5-afae-c0bc0c98d673",
   "metadata": {},
   "outputs": [
    {
     "name": "stdout",
     "output_type": "stream",
     "text": [
      "Education    1    2    3    4   5\n",
      "Attrition                        \n",
      "No         139  238  473  340  43\n",
      "Yes         31   44   99   58   5\n"
     ]
    },
    {
     "data": {
      "image/png": "[encoded data removed]",
      "text/plain": [
       "<Figure size 800x600 with 1 Axes>"
      ]
     },
     "metadata": {},
     "output_type": "display_data"
    }
   ],
   "source": [
    "education = data.groupby(['Attrition','Education']).size().unstack()\n",
    "print(education)\n",
    "\n",
    "plt.figure(figsize=(8,6))\n",
    "sns.countplot(x='Education', hue='Attrition', data=data, palette=palette, hue_order=[\"Yes\", \"No\"])\n",
    "plt.title('Education vs Attrition')\n",
    "plt.xlabel('Education')\n",
    "plt.ylabel('Count')\n",
    "plt.show()"
   ]
  },
  {
   "cell_type": "markdown",
   "id": "0bcedca7-a2b6-42dd-9d56-4cf4985acd59",
   "metadata": {},
   "source": [
    "***INSIGHT*** <br>\n",
    "Observations reveal that those employees with very low education, or very high education tend to stay with the job\n",
    "Those with median level of educaction are the ones who leave."
   ]
  },
  {
   "cell_type": "markdown",
   "id": "1c707575-9f11-4fb3-a90c-1efdb76f6584",
   "metadata": {},
   "source": [
    " "
   ]
  },
  {
   "cell_type": "markdown",
   "id": "cac4fba1-e536-4207-b40b-ecf0263d4ce2",
   "metadata": {},
   "source": [
    "**6. Job Satisfaction: Do employees with lower job satisfaction tend to leave?** <br>\n",
    "Hypothesis: Employees with lower job satisfaction leave"
   ]
  },
  {
   "cell_type": "code",
   "execution_count": 17,
   "id": "28178f6b-10f9-4346-ab72-85176a2ea108",
   "metadata": {},
   "outputs": [
    {
     "name": "stdout",
     "output_type": "stream",
     "text": [
      "JobSatisfaction    1    2    3    4\n",
      "Attrition                          \n",
      "No               223  234  369  407\n",
      "Yes               66   46   73   52\n"
     ]
    },
    {
     "data": {
      "image/png": "[encoded data removed]",
      "text/plain": [
       "<Figure size 800x600 with 1 Axes>"
      ]
     },
     "metadata": {},
     "output_type": "display_data"
    }
   ],
   "source": [
    "jobsatisfaction = data.groupby(['Attrition','JobSatisfaction']).size().unstack()\n",
    "print(jobsatisfaction)\n",
    "\n",
    "plt.figure(figsize=(8,6))\n",
    "sns.countplot(x='JobSatisfaction', hue='Attrition', data=data, palette=palette, hue_order=[\"Yes\", \"No\"])\n",
    "plt.title('Job Satisfaction vs Attrition')\n",
    "plt.xlabel('Job Satisfaction')\n",
    "plt.ylabel('Count')\n",
    "plt.show()"
   ]
  },
  {
   "cell_type": "markdown",
   "id": "8fdb0909-854a-408a-a186-53638f1d0b91",
   "metadata": {},
   "source": [
    "***INSIGHT*** <br>\n",
    "There isn't a pattern with respect to job satisfaction and attrition"
   ]
  },
  {
   "cell_type": "markdown",
   "id": "e788bfa2-09b3-4bb4-b89f-c1bae5dea4bc",
   "metadata": {},
   "source": [
    " "
   ]
  },
  {
   "cell_type": "markdown",
   "id": "d7e87823-aa9a-4b8f-a1ce-3aa60ce43e57",
   "metadata": {},
   "source": [
    "**7. Marital Status: Does marital status play a role (e.g., are single employees more likely to leave)?** <br>\n",
    "Hypothesis:  Single employees tend to quit more, because they are more flexible to shift roles or relocate"
   ]
  },
  {
   "cell_type": "code",
   "execution_count": 18,
   "id": "b01cdcd2-35b0-47db-8aae-0776f453cb45",
   "metadata": {},
   "outputs": [
    {
     "name": "stdout",
     "output_type": "stream",
     "text": [
      "MaritalStatus  Divorced  Married  Single\n",
      "Attrition                               \n",
      "No                  294      589     350\n",
      "Yes                  33       84     120\n"
     ]
    },
    {
     "data": {
      "image/png": "[encoded data removed]",
      "text/plain": [
       "<Figure size 800x600 with 1 Axes>"
      ]
     },
     "metadata": {},
     "output_type": "display_data"
    }
   ],
   "source": [
    "maritalstatus = data.groupby(['Attrition','MaritalStatus']).size().unstack()\n",
    "print(maritalstatus)\n",
    "\n",
    "plt.figure(figsize=(8,6))\n",
    "sns.countplot(x='MaritalStatus', hue='Attrition', data=data, palette=palette)\n",
    "plt.title('Marital Status vs Attrition')\n",
    "plt.xlabel('Marital Status')\n",
    "plt.ylabel('Count')\n",
    "plt.show()"
   ]
  },
  {
   "cell_type": "markdown",
   "id": "2dcff270-b39c-4172-8eae-b3488d943620",
   "metadata": {},
   "source": [
    "Observing the same graph in percentages:"
   ]
  },
  {
   "cell_type": "code",
   "execution_count": 19,
   "id": "5715ba86-eecc-4ae9-b93d-58dac93d451b",
   "metadata": {},
   "outputs": [
    {
     "name": "stdout",
     "output_type": "stream",
     "text": [
      "Attrition            Yes         No\n",
      "MaritalStatus                      \n",
      "Single         25.531915  74.468085\n",
      "Married        12.481426  87.518574\n",
      "Divorced       10.091743  89.908257\n"
     ]
    },
    {
     "data": {
      "image/png": "[encoded data removed]",
      "text/plain": [
       "<Figure size 640x480 with 1 Axes>"
      ]
     },
     "metadata": {},
     "output_type": "display_data"
    }
   ],
   "source": [
    "# Convert to percentages by row (marital status)\n",
    "maritalstatus_2 = data.groupby(['MaritalStatus', 'Attrition']).size().unstack()\n",
    "maritalstatus_percent_by_status = maritalstatus_2.div(maritalstatus_2.sum(axis=1), axis=0) * 100\n",
    "maritalstatus_percent_by_status = maritalstatus_percent_by_status[[\"Yes\", \"No\"]] \n",
    "maritalstatus_percent_by_status = maritalstatus_percent_by_status.loc[[\"Single\", \"Married\", \"Divorced\"]] \n",
    "print(maritalstatus_percent_by_status) \n",
    "\n",
    "# Plot as a bar chart\n",
    "maritalstatus_percent_by_status.plot(kind='bar', color=[\"red\", \"orange\"])\n",
    "plt.title('Attrition within each Marital Status (%)')\n",
    "plt.xlabel('Marital Status')\n",
    "plt.ylabel('Percentage')\n",
    "plt.legend(title='Attrition')\n",
    "plt.show()"
   ]
  },
  {
   "cell_type": "markdown",
   "id": "7a99c348-8589-4cb4-9631-0e8f92928aa3",
   "metadata": {},
   "source": [
    "Observing both the graphs side by side:"
   ]
  },
  {
   "cell_type": "code",
   "execution_count": 20,
   "id": "f8a0c7fe-9e0d-4f82-93e1-b5f6404b90aa",
   "metadata": {},
   "outputs": [
    {
     "data": {
      "image/png": "[encoded data removed]",
      "text/plain": [
       "<Figure size 1600x600 with 2 Axes>"
      ]
     },
     "metadata": {},
     "output_type": "display_data"
    }
   ],
   "source": [
    "fig, axes = plt.subplots(1, 2, figsize=(16, 6))  \n",
    "\n",
    "# Bar chart: Marital Status (percentage) vs Attrition\n",
    "maritalstatus_percent_by_status.plot(kind='bar', color=[\"red\" , \"orange\"], ax=axes[0])\n",
    "axes[0].set_title('Attrition within each Marital Status (%)')\n",
    "axes[0].set_xlabel('Marital Status')\n",
    "axes[0].set_ylabel('Percentage')\n",
    "axes[0].legend(title='Attrition') \n",
    "axes[0].tick_params(axis='x', labelrotation=0)\n",
    "\n",
    "# Countplot: Marital Status vs Attrition\n",
    "palette = {\"No\": \"orange\", \"Yes\": \"red\"}\n",
    "sns.countplot(x='MaritalStatus', hue='Attrition', data=data, ax=axes[1], palette=palette)\n",
    "axes[1].set_title('Marital Status vs Attrition')\n",
    "axes[1].set_xlabel('Marital Status')\n",
    "axes[1].set_ylabel('Count')\n",
    " \n",
    "plt.tight_layout()\n",
    "plt.show()\n"
   ]
  },
  {
   "cell_type": "markdown",
   "id": "b412524f-a22d-48ab-a620-78995fcc9480",
   "metadata": {},
   "source": [
    "***INSIGHT*** <br>\n",
    "The % of single people who drop out are higher"
   ]
  },
  {
   "cell_type": "markdown",
   "id": "475b39a5-6a76-4715-84ad-c24b41819faf",
   "metadata": {},
   "source": [
    " "
   ]
  },
  {
   "cell_type": "markdown",
   "id": "ac2fba22-1e34-4146-a99f-98bea6e761ad",
   "metadata": {},
   "source": [
    "**8. Monthly Income: Is there a connection between income and quitting?** <br>\n",
    "Hypothesis:  Less paid workers leave"
   ]
  },
  {
   "cell_type": "code",
   "execution_count": 21,
   "id": "90a3387f-b9b3-4ccc-b499-fe2ab5a67472",
   "metadata": {},
   "outputs": [
    {
     "name": "stderr",
     "output_type": "stream",
     "text": [
      "C:\\Users\\DELL\\AppData\\Local\\Temp\\ipykernel_12544\\2269082560.py:4: FutureWarning: \n",
      "\n",
      "Passing `palette` without assigning `hue` is deprecated and will be removed in v0.14.0. Assign the `x` variable to `hue` and set `legend=False` for the same effect.\n",
      "\n",
      "  sns.boxplot(x='Attrition', y='MonthlyIncome', data=data, palette=palette)\n"
     ]
    },
    {
     "data": {
      "image/png": "[encoded data removed]",
      "text/plain": [
       "<Figure size 800x600 with 1 Axes>"
      ]
     },
     "metadata": {},
     "output_type": "display_data"
    }
   ],
   "source": [
    "monthlyincome = data.groupby(['Attrition', 'MonthlyIncome']).size().unstack() \n",
    "\n",
    "plt.figure(figsize=(8,6))\n",
    "sns.boxplot(x='Attrition', y='MonthlyIncome', data=data, palette=palette)\n",
    "plt.title('Monthly Income vs Attrition')\n",
    "plt.xlabel('Attrition')\n",
    "plt.ylabel('Monthly Income')\n",
    "plt.show() \n",
    " "
   ]
  },
  {
   "cell_type": "markdown",
   "id": "5b78b3ed-d1b3-40d5-9dd1-8f2492bb7403",
   "metadata": {},
   "source": [
    "***INSIGHT*** <br>\n",
    "Lesser income workers are more likely to leave"
   ]
  },
  {
   "cell_type": "markdown",
   "id": "8649a1c7-bda6-4e58-adcd-9e9f24568ab5",
   "metadata": {},
   "source": [
    " "
   ]
  },
  {
   "cell_type": "markdown",
   "id": "005f7608-897a-4ca6-af4a-303ade9019eb",
   "metadata": {},
   "source": [
    "**9. Job Role: Is a particular job role prone to attrition?** <br>\n",
    "Hypothesis:  Roles like have more Attrition"
   ]
  },
  {
   "cell_type": "code",
   "execution_count": 22,
   "id": "64c224ee-f626-4398-b5f8-2a8696cbc19f",
   "metadata": {},
   "outputs": [
    {
     "name": "stdout",
     "output_type": "stream",
     "text": [
      "Attrition                   No  Yes\n",
      "JobRole                            \n",
      "Healthcare Representative  122    9\n",
      "Human Resources             40   12\n",
      "Laboratory Technician      197   62\n",
      "Manager                     97    5\n",
      "Manufacturing Director     135   10\n",
      "Research Director           78    2\n",
      "Research Scientist         245   47\n",
      "Sales Executive            269   57\n",
      "Sales Representative        50   33\n"
     ]
    },
    {
     "data": {
      "image/png": "[encoded data removed]",
      "text/plain": [
       "<Figure size 800x600 with 1 Axes>"
      ]
     },
     "metadata": {},
     "output_type": "display_data"
    }
   ],
   "source": [
    "jobrole = data.groupby(['JobRole', 'Attrition']).size().unstack()\n",
    "print(jobrole)\n",
    "\n",
    "plt.figure(figsize=(8,6))\n",
    "sns.countplot(x='JobRole', hue='Attrition', data=data, palette=palette)\n",
    "plt.title('Job Role vs Attrition')\n",
    "plt.xlabel('Job Role')\n",
    "plt.xticks(rotation=90) \n",
    "plt.ylabel('Count')\n",
    "plt.show()"
   ]
  },
  {
   "cell_type": "markdown",
   "id": "188e915c-ccec-4896-8a7f-56c7c5248a71",
   "metadata": {},
   "source": [
    "***INSIGHT*** <br>\n",
    "More exits in the job roles \"Sales Executive\", \"Laboratory Technician\" and \"Research Scientist\""
   ]
  },
  {
   "cell_type": "markdown",
   "id": "96754ce3-e21f-4b77-8aef-3580bac21d5a",
   "metadata": {},
   "source": [
    " "
   ]
  },
  {
   "cell_type": "markdown",
   "id": "b2b4310f-dee0-4f03-9d98-00a74812d476",
   "metadata": {},
   "source": [
    "**10. Over Time: Do employees working overtime have a higher chance of leaving?** <br>\n",
    "Hypothesis:  Over time leads to attrition"
   ]
  },
  {
   "cell_type": "code",
   "execution_count": 23,
   "id": "e1057803-bef4-4ddd-ac5b-b559f9dcbe37",
   "metadata": {},
   "outputs": [
    {
     "name": "stdout",
     "output_type": "stream",
     "text": [
      "Attrition   No  Yes\n",
      "OverTime           \n",
      "No         944  110\n",
      "Yes        289  127\n"
     ]
    },
    {
     "data": {
      "image/png": "[encoded data removed]",
      "text/plain": [
       "<Figure size 800x600 with 1 Axes>"
      ]
     },
     "metadata": {},
     "output_type": "display_data"
    }
   ],
   "source": [
    "overtime = data.groupby(['OverTime', 'Attrition']).size().unstack()\n",
    "print(overtime)\n",
    "\n",
    "plt.figure(figsize=(8,6))\n",
    "sns.countplot(x='OverTime', hue='Attrition', data=data, palette=palette)\n",
    "plt.title('Over Time vs Attrition')\n",
    "plt.xlabel('Over Time')\n",
    "plt.ylabel('Count')\n",
    "plt.show()"
   ]
  },
  {
   "cell_type": "markdown",
   "id": "cf4c5657-7de9-4351-b129-22b5867a1de4",
   "metadata": {},
   "source": [
    "***INSIGHT*** <br>\n",
    "Workers working over time are more like to quit"
   ]
  },
  {
   "cell_type": "markdown",
   "id": "95f0b458-d61e-44b3-b839-827ef755061a",
   "metadata": {},
   "source": [
    " "
   ]
  },
  {
   "cell_type": "markdown",
   "id": "a0d63a5a-470e-464d-addc-2492098e66cc",
   "metadata": {},
   "source": [
    "**11. Work-Life Balance: Are employees with poor work-life balance more likely to leave?** <br>\n",
    "Hypothesis: Employees with poor work-life balance quit "
   ]
  },
  {
   "cell_type": "code",
   "execution_count": 24,
   "id": "c396dcbd-a03f-417d-83e1-06ec2796613b",
   "metadata": {},
   "outputs": [
    {
     "name": "stdout",
     "output_type": "stream",
     "text": [
      "Attrition         No  Yes\n",
      "WorkLifeBalance          \n",
      "1                 55   25\n",
      "2                286   58\n",
      "3                766  127\n",
      "4                126   27\n"
     ]
    },
    {
     "data": {
      "image/png": "[encoded data removed]",
      "text/plain": [
       "<Figure size 800x600 with 1 Axes>"
      ]
     },
     "metadata": {},
     "output_type": "display_data"
    }
   ],
   "source": [
    "worklifebalance = data.groupby(['WorkLifeBalance', 'Attrition']).size().unstack()\n",
    "print(worklifebalance)\n",
    "\n",
    "plt.figure(figsize=(8,6))\n",
    "sns.countplot(x='WorkLifeBalance', hue='Attrition', data=data, palette=palette)\n",
    "plt.title('Work-Life Balance vs Attrition')\n",
    "plt.xlabel('Work-Life Balance')\n",
    "plt.ylabel('Count')\n",
    "plt.show()"
   ]
  },
  {
   "cell_type": "markdown",
   "id": "f5a516b9-9b32-4b93-bdbd-91368100438d",
   "metadata": {},
   "source": [
    "***INSIGHT*** <br>\n",
    "No specific pattern as such"
   ]
  },
  {
   "cell_type": "markdown",
   "id": "3985f160-cf7c-45dc-ac56-f5a535b6b73a",
   "metadata": {},
   "source": [
    " "
   ]
  },
  {
   "cell_type": "markdown",
   "id": "3eb799f8-eda6-4857-81ef-7b0e4591852a",
   "metadata": {},
   "source": [
    "# CORRELATION ANALYSIS\n",
    "To explore the relationship between Attrition and each numeric variable in the data, to understand strong predictions"
   ]
  },
  {
   "cell_type": "code",
   "execution_count": 25,
   "id": "31b01121-5471-43ce-b518-1aa578b2f7ba",
   "metadata": {},
   "outputs": [
    {
     "name": "stdout",
     "output_type": "stream",
     "text": [
      "object\n"
     ]
    }
   ],
   "source": [
    "print(data['Attrition'].dtype)"
   ]
  },
  {
   "cell_type": "code",
   "execution_count": 26,
   "id": "b4e2b233-1fef-4b6d-8f44-65ea358cac7e",
   "metadata": {},
   "outputs": [
    {
     "name": "stdout",
     "output_type": "stream",
     "text": [
      "['Yes' 'No']\n"
     ]
    }
   ],
   "source": [
    "print(data['Attrition'].unique())"
   ]
  },
  {
   "cell_type": "code",
   "execution_count": 27,
   "id": "fef37f05-c220-4a8a-821c-3002d22c99f4",
   "metadata": {},
   "outputs": [],
   "source": [
    "# Converting 'Attrition' and 'OverTime' columns to binary (0 for No, 1 for Yes)\n",
    "\n",
    "data['Attrition'] = data['Attrition'].apply(lambda x:1 if x == 'Yes' else 0)\n",
    "data['OverTime'] = data['OverTime'].apply(lambda x:1 if x == 'Yes' else 0)\n",
    "\n",
    "# Converting 'MaritalStatus' to binary (1 for single, 0 for others)\n",
    "data['MaritalStatus'] = data['MaritalStatus'].apply(lambda x: 1 if x == 'Single' else 0)\n"
   ]
  },
  {
   "cell_type": "code",
   "execution_count": 28,
   "id": "af650a95-10fc-4616-8317-2e2073ae52c6",
   "metadata": {},
   "outputs": [
    {
     "name": "stdout",
     "output_type": "stream",
     "text": [
      "[1 0]\n"
     ]
    }
   ],
   "source": [
    "print(data['Attrition'].unique())"
   ]
  },
  {
   "cell_type": "code",
   "execution_count": 29,
   "id": "529dcb5e-20f1-4983-863b-d82de7fc6baa",
   "metadata": {},
   "outputs": [
    {
     "name": "stdout",
     "output_type": "stream",
     "text": [
      "0.16122448979591836\n"
     ]
    }
   ],
   "source": [
    "print(data['Attrition'].mean())"
   ]
  },
  {
   "cell_type": "code",
   "execution_count": 30,
   "id": "c3179fac-91eb-43fe-9244-493fbaf87091",
   "metadata": {},
   "outputs": [
    {
     "name": "stdout",
     "output_type": "stream",
     "text": [
      "Index(['BusinessTravel', 'Department', 'EducationField', 'Gender', 'JobRole',\n",
      "       'Over18'],\n",
      "      dtype='object')\n"
     ]
    }
   ],
   "source": [
    "print(data.select_dtypes(exclude=['number']).columns)"
   ]
  },
  {
   "cell_type": "code",
   "execution_count": 31,
   "id": "1d7bceff-ddad-48c7-9c2b-82928b7c490b",
   "metadata": {},
   "outputs": [],
   "source": [
    "# correlation= data.corr()['Attrition']\n",
    "correlation = data.select_dtypes(include=['number']).corr()['Attrition']"
   ]
  },
  {
   "cell_type": "code",
   "execution_count": 32,
   "id": "18eda51c-fa16-4ec6-a268-19bbe8857dd2",
   "metadata": {},
   "outputs": [
    {
     "name": "stdout",
     "output_type": "stream",
     "text": [
      "Age                        -0.159205\n",
      "Attrition                   1.000000\n",
      "DailyRate                  -0.056652\n",
      "DistanceFromHome            0.077924\n",
      "Education                  -0.031373\n",
      "EmployeeCount                    NaN\n",
      "EmployeeNumber             -0.010577\n",
      "EnvironmentSatisfaction    -0.103369\n",
      "HourlyRate                 -0.006846\n",
      "JobInvolvement             -0.130016\n",
      "JobLevel                   -0.169105\n",
      "JobSatisfaction            -0.103481\n",
      "MaritalStatus               0.175419\n",
      "MonthlyIncome              -0.159840\n",
      "MonthlyRate                 0.015170\n",
      "NumCompaniesWorked          0.043494\n",
      "OverTime                    0.246118\n",
      "PercentSalaryHike          -0.013478\n",
      "PerformanceRating           0.002889\n",
      "RelationshipSatisfaction   -0.045872\n",
      "StandardHours                    NaN\n",
      "StockOptionLevel           -0.137145\n",
      "TotalWorkingYears          -0.171063\n",
      "TrainingTimesLastYear      -0.059478\n",
      "WorkLifeBalance            -0.063939\n",
      "YearsAtCompany             -0.134392\n",
      "YearsInCurrentRole         -0.160545\n",
      "YearsSinceLastPromotion    -0.033019\n",
      "YearsWithCurrManager       -0.156199\n",
      "Name: Attrition, dtype: float64\n"
     ]
    }
   ],
   "source": [
    "print(correlation)"
   ]
  },
  {
   "cell_type": "markdown",
   "id": "91f0b92d-f9cb-4229-9116-61259a11fa45",
   "metadata": {},
   "source": [
    " "
   ]
  },
  {
   "cell_type": "markdown",
   "id": "d7181aa8-881c-49ce-969f-0beea8361b6d",
   "metadata": {},
   "source": [
    "## Key Insights from the Correlation Results:\n",
    "\n",
    "**1. Age (-0.16):** There is a weak negative correlation, meaning younger employees are slightly more likely to leave than older ones <br>\n",
    "**2. DailyRate (-0.06):** Almost no correlation between the employee's daily rate and attrition. It doesn't significantly impact whether an employee stays or leaves <br>\n",
    "**3. Distance From Home (0.08):** cDistance doesn't really affect the Attrition <br>\n",
    "**4. Education (-0.03):** Almost no correlation between education level and attrition; education doesn't influence Attrition <br>\n",
    "**5. Employee Count:** No data or correlation available  <br> \n",
    "**6. Number of Employees (-0.01):** No significant correlation <br>\n",
    "**7. Environment Satisfaction (-0.10):** Weak negative correlation. Employees with lower satisfaction in their work environment are slightly more likely to leave <br>\n",
    "**8. Hourly Rate (-0.01):** No significant correlation <br>\n",
    "**9. Job Involvement (-0.13):** Weak negative correlation. Employees with lower job involvement are slightly more likely to leave <br>\n",
    "**10. Job Level (-0.17):** Weak negative correlation. Employees at lower job levels are more likely to leave than those at higher levels <br>\n",
    "**11. Job Satisfaction (-0.10):** Weak negative correlation. Employees with lower job satisfaction are slightly more likely to leave <br>\n",
    "**12. Marital Status (0.18):** Weak positive correlation. Single employees tend to leave more often compared to married ones <br>\n",
    "**13. MonthlyIncome (-0.16):** Weak negative correlation. Employees with lower monthly income are slightly more likely to leave <br>\n",
    "**14. Number of Companies Worked (0.04):** No significant correlation <br>\n",
    "**15. Over Time (0.25):** Moderate positive correlation. Employees who work overtime are more likely to leave, making this one of the stronger predictors of attrition <br>\n",
    "**16. PercentSalaryHike (-0.01):** No significant correlation <br>\n",
    "**17. PerformanceRating (0.003):** No significant correlation <br>\n",
    "**18. Relationship Satisfaction (-0.05):**  Almost no correlation, employees with lower satisfaction might be slightly more likely to leave, but the effect is minimal <br>\n",
    "**19. StandardHours (NaN):** No data or correlation available <br>\n",
    "**20. Stock Option Level (-0.14):** Weak negative correlation. Employees with lower stock options are more likely to leave, though the effect is small <br> \n",
    "**21. Total Working Years (-0.17):** Weak negative correlation. Employees with fewer years of total work experience are more likely to leave <br> \n",
    "**22. Training Times Last Year (-0.06):** No significant correlation <br> \n",
    "**23. Work Life Balance (-0.06):** No significant correlation <br> \n",
    "**24. Years At Company (-0.13):** Weak negative correlation. Employees who have been at the company for fewer years are more likely to leave <br> \n",
    "**25. Years In Current Role (-0.16):** Weak negative correlation. Employees who have been in their current role for fewer years are more likely to leave  <br> \n",
    "**26. Years Since Last Promotion (-0.03):** No significant correlation <br>\n",
    "**27. Years With Current Manager (-0.16):** Weak negative correlation. Employees who have been with their current manager for a shorter time are more likely to leave  <br> "
   ]
  },
  {
   "cell_type": "markdown",
   "id": "12fdf693-b7fb-4b0d-ae3d-c062a96a45bc",
   "metadata": {},
   "source": [
    " "
   ]
  },
  {
   "cell_type": "markdown",
   "id": "7d8e854b-fb5f-4ca9-83f7-787fd47ad4cd",
   "metadata": {},
   "source": [
    "## Summary of Key Factors:**\n",
    "\n",
    "(|correlation| > 0.2) **OverTime**  is the most significant factor associated with attrition. Employees who work overtime are more likely to leave <br>\n",
    "(0.15 > |correlation| > 0.2) **Marital Status (Single), JobLevel, MonthlyIncome, YearsInCurrentRole, TotalWorkingYears**, and **YearsWithCurrManager** are also variables that influence Attrition <br>\n",
    "(|correlation| >= 0.1)**Job Satisfaction** and **Environment Satisfaction,** are weaker predictors, but still worth considering <br> "
   ]
  },
  {
   "cell_type": "markdown",
   "id": "48dd2179-4184-440c-bdfc-9972c9138f10",
   "metadata": {},
   "source": [
    " "
   ]
  },
  {
   "cell_type": "markdown",
   "id": "c1b7743a-14ef-4303-8223-b3b053b44fa4",
   "metadata": {},
   "source": [
    "# LOGISTIC REGRESSION FOR PREDICTING EMPLOYEE RETENTION"
   ]
  },
  {
   "cell_type": "code",
   "execution_count": 33,
   "id": "e0509f70-76ca-46a7-b620-de257ac18009",
   "metadata": {},
   "outputs": [],
   "source": [
    "# createING a label encoder object from scikit-learn.\n",
    "le = LabelEncoder()\n",
    "\n",
    "# For each listed column, .fit_transform() takes the categorical entries and replaces them with integer codes (like 0, 1, 2... for each unique category).​\n",
    "\n",
    "data['BusinessTravel'] = le.fit_transform(data['BusinessTravel'])\n",
    "data['Department'] = le.fit_transform(data['Department'])\n",
    "data['MaritalStatus'] = le.fit_transform(data['MaritalStatus'])\n",
    "data['JobRole'] = le.fit_transform(data['JobRole'])\n",
    "data['OverTime'] = le.fit_transform(data['OverTime'])"
   ]
  },
  {
   "cell_type": "code",
   "execution_count": 34,
   "id": "840864d3-620b-42bd-82b5-c15d4350ba2b",
   "metadata": {},
   "outputs": [
    {
     "name": "stdout",
     "output_type": "stream",
     "text": [
      "Accuracy: 86.39%\n"
     ]
    },
    {
     "data": {
      "image/png": "[encoded data removed]",
      "text/plain": [
       "<Figure size 640x480 with 2 Axes>"
      ]
     },
     "metadata": {},
     "output_type": "display_data"
    },
    {
     "name": "stdout",
     "output_type": "stream",
     "text": [
      "              precision    recall  f1-score   support\n",
      "\n",
      "           0       0.87      0.98      0.93       380\n",
      "           1       0.54      0.11      0.19        61\n",
      "\n",
      "    accuracy                           0.86       441\n",
      "   macro avg       0.71      0.55      0.56       441\n",
      "weighted avg       0.83      0.86      0.82       441\n",
      "\n"
     ]
    }
   ],
   "source": [
    "# Defining the features (independent variables) and the target (dependent variable)\n",
    "\n",
    "X = data[['Age', 'BusinessTravel', 'DistanceFromHome', 'Education', 'JobSatisfaction', 'MonthlyIncome', 'JobRole', 'OverTime', 'WorkLifeBalance', \n",
    "          'MaritalStatus']]\n",
    "Y = data['Attrition']\n",
    "\n",
    "# Split data into training and testing data sets\n",
    "# from sklearn.model_selection import train_test_split\n",
    "\n",
    "X_train, X_test, y_train, y_test = train_test_split(X, Y, test_size=0.3, random_state=42)\n",
    "logreg = LogisticRegression(max_iter=2000)\n",
    "logreg.fit(X_train, y_train)\n",
    "\n",
    "# Make Predictions\n",
    "y_pred = logreg.predict(X_test)\n",
    "\n",
    "# Evaluate the model accuracy\n",
    "accuracy = accuracy_score(y_test, y_pred)\n",
    "print(f'Accuracy: {accuracy * 100:.2f}%')\n",
    "\n",
    "# Confusion Matrix\n",
    "cm = confusion_matrix(y_test, y_pred)\n",
    "sns.heatmap(cm, annot=True, fmt='d', cmap='Blues', xticklabels=['Stayed', 'Left'], yticklabels=['Stayed', 'Left'])\n",
    "\n",
    "plt.xlabel('Predicted')\n",
    "plt.ylabel('Actual')\n",
    "plt.title('Confusion Matrix')\n",
    "plt.show()\n",
    "\n",
    "# Classification report\n",
    "print(classification_report(y_test, y_pred))"
   ]
  },
  {
   "cell_type": "markdown",
   "id": "94af7ae0-60e6-4ebe-b87d-65dbe87e3d6e",
   "metadata": {},
   "source": [
    " "
   ]
  },
  {
   "cell_type": "markdown",
   "id": "c7e89c2d-ed8d-41dc-9cd4-a52357118eeb",
   "metadata": {},
   "source": [
    "## Explanation of Logistic Regression Results\n",
    "From the logistic regression results, we can observe a few important components: <br>\n",
    "(1) The confusion Matrix <br>\n",
    "(2) Accuracy <br>\n",
    "(3) The classification report <br>\n",
    "\n",
    "\n",
    "### 1. The confusion Matrix\n",
    "- A confusion matrix is a table used to evaluate the performance of a classification model by comparing its predictions with the actual outcomes.\n",
    "- It provides insights into where the model performs well and where it makes errors. The matrix is divided into four key components:\n",
    "    True Positive (TP): Correctly predicted positive cases <br> \n",
    "    True Negative (TN): Correctly predicted negative cases <br> \n",
    "    False Positive (FP): Incorrectly predicted positive cases (Type I error) <br> \n",
    "    False Negative (FN): Incorrectly predicted negative cases (Type II error) <br>\n",
    "- In our anaysis, the confusion matrix shows the count of correct and incorrect predictions based on the employee decision to stay or to leave\n",
    "- Matrix interpretation:\n",
    "\n",
    "    TP: 7 employees were predicted **to leave** and **they did leave** <br>\n",
    "    TN: 374 employees were predicted **to stay** and **they did stay** <br>\n",
    "    FP: 6 employees were predicted **to leave** and **they stayed** <br>  (Type I error)\n",
    "    FN: 54 employees were predicted **to stay** and **they left** <br> (Type II error) \n",
    "  \n",
    "### 2. Accuracy: 86.39%\n",
    "- Accuracy measures the proportion of correct predictions out of all predictions\n",
    "- This explains that, the logistic model was able to correctly predict whether employees left or stayed with the company about 86.39% of the time.\n",
    "- Accuracy is measured as:\n",
    "- Accuracy = (TP + TN) / (TP + TN + FP + FN) <br>\n",
    "      Note the denominator is the Total Predictions  <br> \n",
    "\n",
    "### 2. The Classification report\n",
    "Metrices from the classification report helps evaluate the model performance\n",
    "- **Precision:** Out of all instances the model predicted as a particular class, precision is the fraction that truly belong to that class <br>\n",
    "        - For Stayed (class 0) precision is 0.87. The model is correct 87% of the time <br>\n",
    "        - For Left (Class 1) precision is 0.54. The model is correct 54% of the time <br> \n",
    "- **Recall:** Out of all real instances of a class, recall is the fraction the model correctly identified <br>\n",
    "        - For Stayed (class 0) recall is 0.98. The model found only 98% of all true \"Stayed\" cases <br>\n",
    "        - For Left (Class 1) recall is 0.11. the model found only 11% of all true \"Left\" cases <br>\n",
    "- **F1-Score:** F1 score is the harmonic mean of precision and recall, which balances both metrics in one value  <br>\n",
    "        - For Stayed (class 0) F1-score  is 0.93, suggesting a good balance between precision and recall <br>\n",
    "        - For Left (Class 1) F1-score is 0.19. suggesting poor perfomance in identifying the employees who left <br>\n",
    "- **Support:** Support indicates the number of actual occurences of each class in our test dataset  <br>\n",
    "        - For Stayed (class 0) 380 instances <br>\n",
    "        - For Left (Class 1) 61 instances <br>\n",
    "        - Indicating that there are significantly more employees who stayed than who left, which influences the model performance  <br>\n",
    "- **Macro Average:** The arithmetic mean of the metrices (precision, recall, or F1-score) calculated for each class, **treating all classes equally**.\n",
    "  $$\n",
    "  \\text{Macro avg} = \\frac{\\text{Score for Stayed} + \\text{Score for Left}}{\\text{Number of classes}}\n",
    "  $$\n",
    "        Macro average gives **equal weight** to each class, regardless of how many samples are in that class. It’s useful if you care about the performance on all classes equally, especially when classes are imbalanced.\n",
    "\n",
    "- **Weighted Average:** The mean of the metric, weighted by the number of true instances (support) for each class.\n",
    "  $$\n",
    "  \\text{Weighted avg} = \\frac{(\\text{Score for Stayed} \\times \\text{support}_stayed) + (\\text{Score for Left} \\times \\text{support}_left)}{\\text{Total support}}\n",
    "  $$\n",
    "        Weighted average gives more importance to classes with **more true samples**. This metric tells you the “overall” model performance, but if one class is much more common than others, the weighted average will mostly reflect the model’s performance on that common class. <br>\n",
    "\n",
    "        In our results: <br>\n",
    "            - Macro avg looks at the simple average across classes <br>\n",
    "            - Weighted avg reflects the actual class distribution in our dataset  <br>\n",
    "\n",
    "  "
   ]
  },
  {
   "cell_type": "markdown",
   "id": "aa3bf8b4-c92a-4b6c-8da5-4ffdbcfc73ea",
   "metadata": {},
   "source": [
    "## Summary  \n",
    "- The model achieved a strong overall **accuracy of 86%**, correctly classifying most of the employees’ attrition status\n",
    "- The confusion matrix shows very high correct predictions for employees who stayed, but poor identification of those who left (only 7 out of 61 'left' employees predicted correctly, with many false negatives)\n",
    "- **Precision and recall for the \"Left\" class are low** (0.54 and 0.11), indicating the model struggles to identify employees who will leave\n",
    "- Macro average metrics are significantly lower than weighted average metrics, showing model performance is much better for the majority \"Stayed\" class than for the minority \"Left\" class\n",
    "- The model is reliable for predicting who will stay, but not effective for identifying employees likely to leave, which highlights a class imbalance challenge"
   ]
  },
  {
   "cell_type": "markdown",
   "id": "5988e048-f421-4a13-a9eb-3ebcc5280cfa",
   "metadata": {},
   "source": [
    " "
   ]
  },
  {
   "cell_type": "markdown",
   "id": "1caf837e-9084-458e-8368-3025468c12c0",
   "metadata": {},
   "source": [
    "## Explanation of Each Coefficient:"
   ]
  },
  {
   "cell_type": "code",
   "execution_count": 35,
   "id": "aee8c320-baf3-48e4-9064-2f9e5dded0db",
   "metadata": {},
   "outputs": [
    {
     "name": "stdout",
     "output_type": "stream",
     "text": [
      "            Feature  Coefficient\n",
      "7          OverTime     1.500837\n",
      "9     MaritalStatus     1.110996\n",
      "3         Education     0.084599\n",
      "6           JobRole     0.067426\n",
      "1    BusinessTravel     0.035709\n",
      "2  DistanceFromHome     0.026022\n",
      "5     MonthlyIncome    -0.000100\n",
      "0               Age    -0.032190\n",
      "8   WorkLifeBalance    -0.234517\n",
      "4   JobSatisfaction    -0.331763\n"
     ]
    }
   ],
   "source": [
    "# Get the coefficients and the corresponding feature name\n",
    "coefficients = pd.DataFrame({'Feature': X.columns, 'Coefficient': logreg.coef_[0]})\n",
    "coefficients = coefficients.sort_values(by='Coefficient', ascending=False)\n",
    "print(coefficients)"
   ]
  },
  {
   "cell_type": "markdown",
   "id": "86773eb5-a815-486a-9fe6-296ad22f28ba",
   "metadata": {},
   "source": [
    " "
   ]
  },
  {
   "cell_type": "markdown",
   "id": "6cca6e9d-e862-4ac6-bcb5-7af56868c5bb",
   "metadata": {},
   "source": [
    "The logistic regression coefficients show how each feature influences the probability of predicting the \"Left\" class (employee attrition):\n",
    "\n",
    "- **Positive coefficients (e.g., OverTime: 1.50, MaritalStatus: 1.11)**: Higher values in these features increase the probability of attrition. For example, working overtime or being single makes attrition more likely.\n",
    "- **Negative coefficients (e.g., JobSatisfaction: -0.33, WorkLifeBalance: -0.23, Age: -0.03)**: Higher values in these features decrease the probability of attrition. Higher job satisfaction, better work-life balance, and older age are associated with a lower likelihood of leaving.\n",
    "- **Coefficients near zero (e.g., MonthlyIncome, DistanceFromHome, Education)**: These variables have little effect on predicting attrition, all else being equal.\n",
    "\n",
    "Larger absolute values (either positive or negative) indicate a stronger influence on the model's decision, while values close to zero indicate weaker or negligible effect."
   ]
  },
  {
   "cell_type": "markdown",
   "id": "d06c4824-a788-4246-885f-a431e4b8abe1",
   "metadata": {},
   "source": [
    " "
   ]
  },
  {
   "cell_type": "markdown",
   "id": "2be1752f-2f42-4600-b117-ecc470000f91",
   "metadata": {},
   "source": [
    "## Next Steps\n",
    "\n",
    "- **Address class imbalance** by applying techniques such as SMOTE, random oversampling/undersampling, or adjusting class weights to improve detection of employees who leave.\n",
    "- **Feature engineering**: Create additional meaningful features or interaction terms, and consider eliminating features with very low impact.\n",
    "- **Model experimentation**: Try more sophisticated models like Random Forest, Gradient Boosting, or XGBoost, which may handle imbalance and nonlinearities better than logistic regression.\n",
    "- **Evaluate with additional metrics**: Focus on metrics such as recall, F1-score, and ROC-AUC for the minority (\"Left\") class, not just overall accuracy.\n",
    "- **Business actions**: Use the top positive and negative predictors (e.g., OverTime, Marital Status, Job Satisfaction) to recommend targeted retention strategies and interventions."
   ]
  },
  {
   "cell_type": "code",
   "execution_count": null,
   "id": "0cffd696-b006-487e-8f28-43062504d0ba",
   "metadata": {},
   "outputs": [],
   "source": []
  },
  {
   "cell_type": "markdown",
   "id": "b547cf61-ea69-4eaf-a5bd-f83b15082000",
   "metadata": {},
   "source": [
    " "
   ]
  }
 ],
 "metadata": {
  "kernelspec": {
   "display_name": "Python 3 (ipykernel)",
   "language": "python",
   "name": "python3"
  },
  "language_info": {
   "codemirror_mode": {
    "name": "ipython",
    "version": 3
   },
   "file_extension": ".py",
   "mimetype": "text/x-python",
   "name": "python",
   "nbconvert_exporter": "python",
   "pygments_lexer": "ipython3",
   "version": "3.13.4"
  }
 },
 "nbformat": 4,
 "nbformat_minor": 5
}
